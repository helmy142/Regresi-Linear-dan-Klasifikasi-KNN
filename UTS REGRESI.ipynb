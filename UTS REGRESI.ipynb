{
 "cells": [
  {
   "cell_type": "markdown",
   "id": "63f1f34d",
   "metadata": {},
   "source": [
    "## IMPORT LIBRARY "
   ]
  },
  {
   "cell_type": "code",
   "execution_count": 3,
   "id": "fc3c11ea",
   "metadata": {},
   "outputs": [],
   "source": [
    "import pandas as pd #mengimport library panda\n",
    "import numpy as np #mengimport library numpy\n",
    "import matplotlib.pyplot as plt #mengimport library matplotlib.pyplot \n",
    "from sklearn.linear_model import LinearRegression"
   ]
  },
  {
   "cell_type": "code",
   "execution_count": 4,
   "id": "990a4bb0",
   "metadata": {},
   "outputs": [
    {
     "data": {
      "text/html": [
       "<div>\n",
       "<style scoped>\n",
       "    .dataframe tbody tr th:only-of-type {\n",
       "        vertical-align: middle;\n",
       "    }\n",
       "\n",
       "    .dataframe tbody tr th {\n",
       "        vertical-align: top;\n",
       "    }\n",
       "\n",
       "    .dataframe thead th {\n",
       "        text-align: right;\n",
       "    }\n",
       "</style>\n",
       "<table border=\"1\" class=\"dataframe\">\n",
       "  <thead>\n",
       "    <tr style=\"text-align: right;\">\n",
       "      <th></th>\n",
       "      <th>Daily Exercise Time (X)</th>\n",
       "      <th>Weight Loss (Y)</th>\n",
       "    </tr>\n",
       "  </thead>\n",
       "  <tbody>\n",
       "    <tr>\n",
       "      <th>0</th>\n",
       "      <td>0.5</td>\n",
       "      <td>0.2</td>\n",
       "    </tr>\n",
       "    <tr>\n",
       "      <th>1</th>\n",
       "      <td>1.0</td>\n",
       "      <td>0.4</td>\n",
       "    </tr>\n",
       "    <tr>\n",
       "      <th>2</th>\n",
       "      <td>1.5</td>\n",
       "      <td>0.7</td>\n",
       "    </tr>\n",
       "    <tr>\n",
       "      <th>3</th>\n",
       "      <td>2.0</td>\n",
       "      <td>1.0</td>\n",
       "    </tr>\n",
       "    <tr>\n",
       "      <th>4</th>\n",
       "      <td>1.0</td>\n",
       "      <td>0.3</td>\n",
       "    </tr>\n",
       "    <tr>\n",
       "      <th>...</th>\n",
       "      <td>...</td>\n",
       "      <td>...</td>\n",
       "    </tr>\n",
       "    <tr>\n",
       "      <th>69</th>\n",
       "      <td>3.6</td>\n",
       "      <td>1.8</td>\n",
       "    </tr>\n",
       "    <tr>\n",
       "      <th>70</th>\n",
       "      <td>1.8</td>\n",
       "      <td>0.7</td>\n",
       "    </tr>\n",
       "    <tr>\n",
       "      <th>71</th>\n",
       "      <td>1.9</td>\n",
       "      <td>0.8</td>\n",
       "    </tr>\n",
       "    <tr>\n",
       "      <th>72</th>\n",
       "      <td>3.4</td>\n",
       "      <td>1.7</td>\n",
       "    </tr>\n",
       "    <tr>\n",
       "      <th>73</th>\n",
       "      <td>1.0</td>\n",
       "      <td>0.4</td>\n",
       "    </tr>\n",
       "  </tbody>\n",
       "</table>\n",
       "<p>74 rows × 2 columns</p>\n",
       "</div>"
      ],
      "text/plain": [
       "    Daily Exercise Time (X)  Weight Loss (Y)\n",
       "0                       0.5              0.2\n",
       "1                       1.0              0.4\n",
       "2                       1.5              0.7\n",
       "3                       2.0              1.0\n",
       "4                       1.0              0.3\n",
       "..                      ...              ...\n",
       "69                      3.6              1.8\n",
       "70                      1.8              0.7\n",
       "71                      1.9              0.8\n",
       "72                      3.4              1.7\n",
       "73                      1.0              0.4\n",
       "\n",
       "[74 rows x 2 columns]"
      ]
     },
     "execution_count": 4,
     "metadata": {},
     "output_type": "execute_result"
    }
   ],
   "source": [
    "data = pd.read_csv('R03_excercises.csv')#memanggil atau membaca R03_excercies.csv\n",
    "data "
   ]
  },
  {
   "cell_type": "code",
   "execution_count": 5,
   "id": "89618978",
   "metadata": {},
   "outputs": [
    {
     "name": "stdout",
     "output_type": "stream",
     "text": [
      "<class 'pandas.core.frame.DataFrame'>\n",
      "RangeIndex: 74 entries, 0 to 73\n",
      "Data columns (total 2 columns):\n",
      " #   Column                   Non-Null Count  Dtype  \n",
      "---  ------                   --------------  -----  \n",
      " 0   Daily Exercise Time (X)  74 non-null     float64\n",
      " 1   Weight Loss (Y)          74 non-null     float64\n",
      "dtypes: float64(2)\n",
      "memory usage: 1.3 KB\n"
     ]
    }
   ],
   "source": [
    "data.info() #untuk membaca info dari data"
   ]
  },
  {
   "cell_type": "code",
   "execution_count": 6,
   "id": "4d8add4c",
   "metadata": {},
   "outputs": [
    {
     "data": {
      "text/html": [
       "<div>\n",
       "<style scoped>\n",
       "    .dataframe tbody tr th:only-of-type {\n",
       "        vertical-align: middle;\n",
       "    }\n",
       "\n",
       "    .dataframe tbody tr th {\n",
       "        vertical-align: top;\n",
       "    }\n",
       "\n",
       "    .dataframe thead th {\n",
       "        text-align: right;\n",
       "    }\n",
       "</style>\n",
       "<table border=\"1\" class=\"dataframe\">\n",
       "  <thead>\n",
       "    <tr style=\"text-align: right;\">\n",
       "      <th></th>\n",
       "      <th>Daily Exercise Time (X)</th>\n",
       "      <th>Weight Loss (Y)</th>\n",
       "    </tr>\n",
       "  </thead>\n",
       "  <tbody>\n",
       "    <tr>\n",
       "      <th>Daily Exercise Time (X)</th>\n",
       "      <td>1.000000</td>\n",
       "      <td>0.990064</td>\n",
       "    </tr>\n",
       "    <tr>\n",
       "      <th>Weight Loss (Y)</th>\n",
       "      <td>0.990064</td>\n",
       "      <td>1.000000</td>\n",
       "    </tr>\n",
       "  </tbody>\n",
       "</table>\n",
       "</div>"
      ],
      "text/plain": [
       "                         Daily Exercise Time (X)  Weight Loss (Y)\n",
       "Daily Exercise Time (X)                 1.000000         0.990064\n",
       "Weight Loss (Y)                         0.990064         1.000000"
      ]
     },
     "execution_count": 6,
     "metadata": {},
     "output_type": "execute_result"
    }
   ],
   "source": [
    "data.corr() #data korelasi untuk melihat korelasi antara data x atau data yang\n",
    "            #memengaruhi dan data y atau data yang dipengaruhi"
   ]
  },
  {
   "cell_type": "code",
   "execution_count": 7,
   "id": "b8a01197",
   "metadata": {},
   "outputs": [],
   "source": [
    "\n",
    "x_train = data['Daily Exercise Time (X)'].values[:,np.newaxis] #untuk menyiapkan niai x\n",
    "\n",
    "y_train = data['Weight Loss (Y)'].values # untuk menyiapkan nilai y"
   ]
  },
  {
   "cell_type": "code",
   "execution_count": 8,
   "id": "00cd1cfa",
   "metadata": {},
   "outputs": [
    {
     "name": "stdout",
     "output_type": "stream",
     "text": [
      "[[0.5]\n",
      " [1. ]\n",
      " [1.5]\n",
      " [2. ]\n",
      " [1. ]\n",
      " [2.5]\n",
      " [3. ]\n",
      " [2. ]\n",
      " [0.7]\n",
      " [3.5]\n",
      " [1.2]\n",
      " [2.8]\n",
      " [0.9]\n",
      " [3.2]\n",
      " [1.6]\n",
      " [0.4]\n",
      " [2.6]\n",
      " [1.1]\n",
      " [3.8]\n",
      " [2.5]\n",
      " [2. ]\n",
      " [1.3]\n",
      " [3.7]\n",
      " [1.4]\n",
      " [3.9]\n",
      " [2.3]\n",
      " [1.5]\n",
      " [2.9]\n",
      " [1. ]\n",
      " [0.6]\n",
      " [3. ]\n",
      " [2.7]\n",
      " [1.9]\n",
      " [1.8]\n",
      " [2.4]\n",
      " [0.8]\n",
      " [3.4]\n",
      " [2.1]\n",
      " [2.2]\n",
      " [1.2]\n",
      " [3.5]\n",
      " [3.1]\n",
      " [1.3]\n",
      " [3.6]\n",
      " [2.6]\n",
      " [2.7]\n",
      " [0.5]\n",
      " [3.9]\n",
      " [1.4]\n",
      " [0.7]\n",
      " [3.2]\n",
      " [2.8]\n",
      " [1.1]\n",
      " [3.3]\n",
      " [2. ]\n",
      " [0.9]\n",
      " [2.2]\n",
      " [2.5]\n",
      " [0.6]\n",
      " [3.7]\n",
      " [1.7]\n",
      " [1.5]\n",
      " [3.8]\n",
      " [2.4]\n",
      " [3. ]\n",
      " [0.8]\n",
      " [2.3]\n",
      " [2.9]\n",
      " [1.6]\n",
      " [3.6]\n",
      " [1.8]\n",
      " [1.9]\n",
      " [3.4]\n",
      " [1. ]]\n"
     ]
    }
   ],
   "source": [
    "print (x_train)"
   ]
  },
  {
   "cell_type": "code",
   "execution_count": 9,
   "id": "c39c45f7",
   "metadata": {},
   "outputs": [
    {
     "name": "stdout",
     "output_type": "stream",
     "text": [
      "[0.2 0.4 0.7 1.  0.3 1.3 1.6 1.1 0.4 1.8 0.5 1.4 0.3 1.7 0.6 0.2 1.2 0.4\n",
      " 1.9 1.1 0.8 0.5 1.8 0.6 2.  1.  0.7 1.5 0.3 0.2 1.6 1.3 0.8 0.7 1.1 0.3\n",
      " 1.7 0.9 1.  0.5 1.8 1.4 0.6 1.9 1.2 1.3 0.2 2.  0.6 0.3 1.7 1.4 0.4 1.8\n",
      " 0.8 0.3 1.  1.1 0.2 1.9 0.7 0.7 1.9 1.1 1.6 0.3 1.  1.5 0.6 1.8 0.7 0.8\n",
      " 1.7 0.4]\n"
     ]
    }
   ],
   "source": [
    "print (y_train)"
   ]
  },
  {
   "cell_type": "code",
   "execution_count": 10,
   "id": "41f6fa0a",
   "metadata": {},
   "outputs": [
    {
     "data": {
      "text/html": [
       "<style>#sk-container-id-1 {color: black;}#sk-container-id-1 pre{padding: 0;}#sk-container-id-1 div.sk-toggleable {background-color: white;}#sk-container-id-1 label.sk-toggleable__label {cursor: pointer;display: block;width: 100%;margin-bottom: 0;padding: 0.3em;box-sizing: border-box;text-align: center;}#sk-container-id-1 label.sk-toggleable__label-arrow:before {content: \"▸\";float: left;margin-right: 0.25em;color: #696969;}#sk-container-id-1 label.sk-toggleable__label-arrow:hover:before {color: black;}#sk-container-id-1 div.sk-estimator:hover label.sk-toggleable__label-arrow:before {color: black;}#sk-container-id-1 div.sk-toggleable__content {max-height: 0;max-width: 0;overflow: hidden;text-align: left;background-color: #f0f8ff;}#sk-container-id-1 div.sk-toggleable__content pre {margin: 0.2em;color: black;border-radius: 0.25em;background-color: #f0f8ff;}#sk-container-id-1 input.sk-toggleable__control:checked~div.sk-toggleable__content {max-height: 200px;max-width: 100%;overflow: auto;}#sk-container-id-1 input.sk-toggleable__control:checked~label.sk-toggleable__label-arrow:before {content: \"▾\";}#sk-container-id-1 div.sk-estimator input.sk-toggleable__control:checked~label.sk-toggleable__label {background-color: #d4ebff;}#sk-container-id-1 div.sk-label input.sk-toggleable__control:checked~label.sk-toggleable__label {background-color: #d4ebff;}#sk-container-id-1 input.sk-hidden--visually {border: 0;clip: rect(1px 1px 1px 1px);clip: rect(1px, 1px, 1px, 1px);height: 1px;margin: -1px;overflow: hidden;padding: 0;position: absolute;width: 1px;}#sk-container-id-1 div.sk-estimator {font-family: monospace;background-color: #f0f8ff;border: 1px dotted black;border-radius: 0.25em;box-sizing: border-box;margin-bottom: 0.5em;}#sk-container-id-1 div.sk-estimator:hover {background-color: #d4ebff;}#sk-container-id-1 div.sk-parallel-item::after {content: \"\";width: 100%;border-bottom: 1px solid gray;flex-grow: 1;}#sk-container-id-1 div.sk-label:hover label.sk-toggleable__label {background-color: #d4ebff;}#sk-container-id-1 div.sk-serial::before {content: \"\";position: absolute;border-left: 1px solid gray;box-sizing: border-box;top: 0;bottom: 0;left: 50%;z-index: 0;}#sk-container-id-1 div.sk-serial {display: flex;flex-direction: column;align-items: center;background-color: white;padding-right: 0.2em;padding-left: 0.2em;position: relative;}#sk-container-id-1 div.sk-item {position: relative;z-index: 1;}#sk-container-id-1 div.sk-parallel {display: flex;align-items: stretch;justify-content: center;background-color: white;position: relative;}#sk-container-id-1 div.sk-item::before, #sk-container-id-1 div.sk-parallel-item::before {content: \"\";position: absolute;border-left: 1px solid gray;box-sizing: border-box;top: 0;bottom: 0;left: 50%;z-index: -1;}#sk-container-id-1 div.sk-parallel-item {display: flex;flex-direction: column;z-index: 1;position: relative;background-color: white;}#sk-container-id-1 div.sk-parallel-item:first-child::after {align-self: flex-end;width: 50%;}#sk-container-id-1 div.sk-parallel-item:last-child::after {align-self: flex-start;width: 50%;}#sk-container-id-1 div.sk-parallel-item:only-child::after {width: 0;}#sk-container-id-1 div.sk-dashed-wrapped {border: 1px dashed gray;margin: 0 0.4em 0.5em 0.4em;box-sizing: border-box;padding-bottom: 0.4em;background-color: white;}#sk-container-id-1 div.sk-label label {font-family: monospace;font-weight: bold;display: inline-block;line-height: 1.2em;}#sk-container-id-1 div.sk-label-container {text-align: center;}#sk-container-id-1 div.sk-container {/* jupyter's `normalize.less` sets `[hidden] { display: none; }` but bootstrap.min.css set `[hidden] { display: none !important; }` so we also need the `!important` here to be able to override the default hidden behavior on the sphinx rendered scikit-learn.org. See: https://github.com/scikit-learn/scikit-learn/issues/21755 */display: inline-block !important;position: relative;}#sk-container-id-1 div.sk-text-repr-fallback {display: none;}</style><div id=\"sk-container-id-1\" class=\"sk-top-container\"><div class=\"sk-text-repr-fallback\"><pre>LinearRegression()</pre><b>In a Jupyter environment, please rerun this cell to show the HTML representation or trust the notebook. <br />On GitHub, the HTML representation is unable to render, please try loading this page with nbviewer.org.</b></div><div class=\"sk-container\" hidden><div class=\"sk-item\"><div class=\"sk-estimator sk-toggleable\"><input class=\"sk-toggleable__control sk-hidden--visually\" id=\"sk-estimator-id-1\" type=\"checkbox\" checked><label for=\"sk-estimator-id-1\" class=\"sk-toggleable__label sk-toggleable__label-arrow\">LinearRegression</label><div class=\"sk-toggleable__content\"><pre>LinearRegression()</pre></div></div></div></div></div>"
      ],
      "text/plain": [
       "LinearRegression()"
      ]
     },
     "execution_count": 10,
     "metadata": {},
     "output_type": "execute_result"
    }
   ],
   "source": [
    "lm = LinearRegression() #untuk membuat model regresi linear\n",
    "lm.fit(x_train,y_train) # fase training"
   ]
  },
  {
   "cell_type": "code",
   "execution_count": 11,
   "id": "32858e95",
   "metadata": {},
   "outputs": [
    {
     "name": "stdout",
     "output_type": "stream",
     "text": [
      "[1.04302631 0.87781486 1.7038721  1.81401307 0.71260342]\n"
     ]
    }
   ],
   "source": [
    "x_test = [[2.2],[1.9],[3.4],[3.6],[1.6]]\n",
    "predict = lm.predict(x_test) #untuk membuat prediksi berdasarkan label dari x_test\n",
    "print(predict)"
   ]
  },
  {
   "cell_type": "code",
   "execution_count": 12,
   "id": "1289f31e",
   "metadata": {},
   "outputs": [
    {
     "name": "stdout",
     "output_type": "stream",
     "text": [
      "Coeficient :[0.55070483]\n",
      "Intercept :-0.16852430493910497\n"
     ]
    }
   ],
   "source": [
    "print('Coeficient :' + str(lm.coef_))     #Pembuktian hasil prediksi. Dengan menggunakan model LinierRegression, dapat diketahui nilai a dan b untuk persamaan regresinya \n",
    "print('Intercept :' +str(lm.intercept_)   #dengan memanggil fungsi coef_ dan intercept_. Nilai p yang didapat untuk data pengujian di atas didapat dari persamaan regresi di atas"
   ]
  },
  {
   "cell_type": "markdown",
   "id": "3e8dcfb0",
   "metadata": {},
   "source": [
    "## proses pembuatan visualisasi data"
   ]
  },
  {
   "cell_type": "code",
   "execution_count": 14,
   "id": "0034e2c7",
   "metadata": {},
   "outputs": [
    {
     "data": {
      "image/png": "[encoded data removed]",
      "text/plain": [
       "<Figure size 640x480 with 1 Axes>"
      ]
     },
     "metadata": {},
     "output_type": "display_data"
    }
   ],
   "source": [
    "\n",
    "prediksibaru = lm.predict(x_train)\n",
    "dfBaru = pd.DataFrame({'Daily Exercise Time (X)' : data['Daily Exercise Time (X)'], 'Weight Loss (Y)':prediksibaru})\n",
    "plt.scatter(data['Daily Exercise Time (X)'], data['Weight Loss (Y)']) #scatter untuk persebaran titik titik\n",
    "plt.plot(dfBaru['Daily Exercise Time (X)'], dfBaru['Weight Loss (Y)'], color = 'red', linewidth=1) # garis berwarna merah\n",
    "plt.xlabel(\"Daily Exercise Time (X)\") # x label untuk data daily excercise Time (x)\n",
    "plt.ylabel('Weight Loss (Y))')\n",
    "plt.show() # untuk menampilkan visualisai model regresi linear"
   ]
  },
  {
   "cell_type": "markdown",
   "id": "ad327789",
   "metadata": {},
   "source": [
    "## cek akurasi"
   ]
  },
  {
   "cell_type": "code",
   "execution_count": 16,
   "id": "91a4cdde",
   "metadata": {},
   "outputs": [
    {
     "name": "stdout",
     "output_type": "stream",
     "text": [
      "99.01133587032567\n"
     ]
    }
   ],
   "source": [
    "from sklearn.metrics import r2_score\n",
    "akurasi = r2_score(data,dfBaru)\n",
    "print(akurasi*100)"
   ]
  }
 ],
 "metadata": {
  "kernelspec": {
   "display_name": "Python 3 (ipykernel)",
   "language": "python",
   "name": "python3"
  },
  "language_info": {
   "codemirror_mode": {
    "name": "ipython",
    "version": 3
   },
   "file_extension": ".py",
   "mimetype": "text/x-python",
   "name": "python",
   "nbconvert_exporter": "python",
   "pygments_lexer": "ipython3",
   "version": "3.11.5"
  }
 },
 "nbformat": 4,
 "nbformat_minor": 5
}
